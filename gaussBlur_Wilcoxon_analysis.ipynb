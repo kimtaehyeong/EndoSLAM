{
 "cells": [
  {
   "cell_type": "code",
   "execution_count": 1,
   "metadata": {},
   "outputs": [],
   "source": [
    "from numpy.random import seed\n",
    "from numpy.random import randn\n",
    "from scipy.stats import mannwhitneyu\n",
    "from prettytable import PrettyTable"
   ]
  },
  {
   "cell_type": "code",
   "execution_count": 2,
   "metadata": {},
   "outputs": [],
   "source": [
    "# seed the random number generator\n",
    "seed(1)"
   ]
  },
  {
   "cell_type": "code",
   "execution_count": 3,
   "metadata": {},
   "outputs": [],
   "source": [
    "level1_ATE = [0.2188,0.3932,0.4133,0.0976,0.2173,0.0899,0.2833,0.4539,0.5241,0.0933,0.1271,0.2195,0.2471,0.2608,0.0936,0.1812,0.3165,0.0622,0.1777,0.2673]\n",
    "level4_ATE = [0.2385,0.4205,0.4549,0.111,0.2397,0.1117,0.3049,0.4815,0.5536,0.0984,0.1373,0.213,0.285,0.3196,0.1018,0.2048,0.3257,0.0685,0.2126,0.3176]\n",
    "level7_ATE = [0.2441,0.4297,0.4616,0.1146,0.2458,0.1165,0.3069,0.4808,0.5629,0.1008,0.1422,0.2146,0.2283,0.3274,0.1033,0.2113,0.3286,0.0712,0.2214,0.3331]\n",
    "level10_ATE = [0.2524,0.4364,0.4505,0.1209,0.2467,0.123,0.3004,0.4651,0.5694,0.1014,0.1426,0.2138,0.2216,0.3364,0.1055,0.2234,0.3311,0.0733,0.2339,0.3566]\n",
    "level13_ATE = [0.2585,0.4243,0.3973,0.1281,0.2247,0.1279,0.2935,0.4638,0.5734,0.102,0.1459,0.2104,0.205,0.3454,0.1094,0.2412,0.3268,0.0849,0.2435,0.3755]\n",
    "level15_ATE = [0.2579,0.402,0.3515,0.1333,0.2092,0.1307,0.3002,0.4904,0.5858,0.1083,0.1602,0.2033,0.1929,0.3309,0.1109,0.2501,0.3202,0.0881,0.2416,0.3744]\n",
    "\n",
    "level1_RPE_rot = [1.378,1.2284,1.0047,1.145,0.871,0.8991,1.1684,1.032,0.9914,1.0271,0.8946,1.0015,1.1013,1.1463,1.1165,1.3432,1.0027,0.9381,0.9595,0.822]\n",
    "level4_RPE_rot = [1.4837,1.3045,1.0521,1.1823,0.9144,0.9049,1.2288,1.0888,1.0565,1.07,0.9593,1.0833,1.1591,1.1992,1.1419,1.3757,1.05,0.955,0.9776,0.8529]\n",
    "level7_RPE_rot = [1.5015,1.3208,1.062,1.1791,0.921,0.9072,1.2442,1.0947,1.064,1.0802,0.9753,1.1013,1.1713,1.2113,1.1466,1.3802,1.0634,0.9601,0.9816,0.8631]\n",
    "level10_RPE_rot = [1.5132,1.3494,1.0774,1.1807,0.9251,0.9214,1.2745,1.1089,1.0753,1.0985,1.0078,1.1261,1.1899,1.2353,1.1565,1.3874,1.0793,0.9702,0.9912,0.8828]\n",
    "level13_RPE_rot = [1.5186,1.3904,1.0926,1.2202,0.951,0.9614,1.3168,1.1467,1.1003,1.123,1.0492,1.1613,1.2256,1.2694,1.1717,1.392,1.1049,0.9925,1.1054,0.9139]\n",
    "level15_RPE_rot = [1.5331,1.408,1.0993,1.2625,0.9824,0.9928,1.3462,1.1706,1.1161,1.1376,1.0695,1.1852,1.2495,1.2977,1.1859,1.3952,1.1092,1.0107,1.0324,0.9322]"
   ]
  },
  {
   "cell_type": "code",
   "execution_count": 4,
   "metadata": {},
   "outputs": [],
   "source": [
    "# compare samples\n",
    "levels_ATE=[level1_ATE,level4_ATE,level7_ATE,level10_ATE,level13_ATE,level15_ATE]\n",
    "names=[\"Level1\",\"Level4\",\"Level7\",\"Level10\",\"Level13\",\"Level15\"]\n",
    "levels_RPE_rot=[level1_RPE_rot,level4_RPE_rot,level7_RPE_rot,level10_RPE_rot,level13_RPE_rot,level15_RPE_rot]\n",
    "\n",
    "p_scores=[]\n",
    "p_score_rpe=[]\n",
    "levels=[]\n",
    "\n",
    "for i in range(0,5):\n",
    "    for j in range(i+1,6):\n",
    "        stat, p = mannwhitneyu(levels_ATE[i], levels_ATE[j])\n",
    "        p_scores.append('{:.3f}'.format(p))\n",
    "        levels.append(names[i]+\" - \"+names[j])\n",
    "        \n",
    "        stat2, p2 = mannwhitneyu(levels_RPE_rot[i], levels_RPE_rot[j])\n",
    "        p_score_rpe.append('{:.3f}'.format(p2))\n",
    "        "
   ]
  },
  {
   "cell_type": "code",
   "execution_count": 5,
   "metadata": {},
   "outputs": [
    {
     "name": "stdout",
     "output_type": "stream",
     "text": [
      "+---------------------------------------------------+\n",
      "|             Wilcoxon Test on GaussBlur            |\n",
      "+-------------------+-------------+-----------------+\n",
      "|       Levels      | ATE p-value | RPE rot p-value |\n",
      "+-------------------+-------------+-----------------+\n",
      "|  Level1 - Level4  |    0.237    |      0.168      |\n",
      "|  Level1 - Level7  |    0.245    |      0.128      |\n",
      "|  Level1 - Level10 |    0.220    |      0.082      |\n",
      "|  Level1 - Level13 |    0.237    |      0.019      |\n",
      "|  Level1 - Level15 |    0.271    |      0.010      |\n",
      "|  Level4 - Level7  |    0.378    |      0.357      |\n",
      "|  Level4 - Level10 |    0.378    |      0.271      |\n",
      "|  Level4 - Level13 |    0.399    |      0.099      |\n",
      "|  Level4 - Level15 |    0.452    |      0.070      |\n",
      "|  Level7 - Level10 |    0.378    |      0.318      |\n",
      "|  Level7 - Level13 |    0.484    |      0.131      |\n",
      "|  Level7 - Level15 |    0.484    |      0.078      |\n",
      "| Level10 - Level13 |    0.495    |      0.237      |\n",
      "| Level10 - Level15 |    0.484    |      0.149      |\n",
      "| Level13 - Level15 |    0.495    |      0.357      |\n",
      "+-------------------+-------------+-----------------+\n"
     ]
    }
   ],
   "source": [
    "x = PrettyTable()\n",
    "x.title = 'Wilcoxon Test on GaussBlur'\n",
    "x.field_names = [\"Levels\",\"ATE p-value\",\"RPE rot p-value\"]\n",
    "\n",
    "for i in range(len(p_scores)):\n",
    "     x.add_row([levels[i],p_scores[i],p_score_rpe[i]])\n",
    "\n",
    "\n",
    "print(x)"
   ]
  },
  {
   "cell_type": "code",
   "execution_count": null,
   "metadata": {},
   "outputs": [],
   "source": []
  }
 ],
 "metadata": {
  "kernelspec": {
   "display_name": "Python 3",
   "language": "python",
   "name": "python3"
  },
  "language_info": {
   "codemirror_mode": {
    "name": "ipython",
    "version": 3
   },
   "file_extension": ".py",
   "mimetype": "text/x-python",
   "name": "python",
   "nbconvert_exporter": "python",
   "pygments_lexer": "ipython3",
   "version": "3.7.4"
  }
 },
 "nbformat": 4,
 "nbformat_minor": 2
}
