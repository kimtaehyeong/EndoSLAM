{
 "cells": [
  {
   "cell_type": "code",
   "execution_count": 1,
   "metadata": {},
   "outputs": [],
   "source": [
    "from numpy.random import seed\n",
    "from numpy.random import randn\n",
    "from scipy.stats import mannwhitneyu\n",
    "from prettytable import PrettyTable"
   ]
  },
  {
   "cell_type": "code",
   "execution_count": 2,
   "metadata": {},
   "outputs": [],
   "source": [
    "# seed the random number generator\n",
    "seed(1)"
   ]
  },
  {
   "cell_type": "code",
   "execution_count": 3,
   "metadata": {},
   "outputs": [],
   "source": [
    "level1_ATE=[0.2475,0.4787,0.4922,0.0987,0.2653,0.0796,0.3275,0.5253,0.5628,0.1244,0.1617,0.1099,0.1358,0.253,0.1223,0.2718,0.3672,0.0991,0.2334,0.3393]\n",
    "level4_ATE=[0.2676,0.509,0.4831,0.1057,0.2805,0.1051,0.3504,0.5223,0.5704,0.127,0.1676,0.1894,0.1949,0.1211,0.1342,0.3123,0.3227,0.1023,0.2156,0.2595]\n",
    "level6_ATE=[0.2733,0.5016,0.4286,0.1061,0.2914,0.1227,0.3519,0.5018,0.5572,0.1352,0.1927,0.2542,0.2149,0.1427,0.1395,0.3157,0.2963,0.1093,0.2104,0.2117]\n",
    "level8_ATE=[0.2881,0.4877,0.353,0.1027,0.2733,0.1419,0.3284,0.449,0.5034,0.1428,0.2247,0.3131,0.2402,0.3072,0.1425,0.3002,0.2639,0.1149,0.199,0.1424]\n",
    "level10_ATE=[0.2985,0.4591,0.3424,0.099,0.2429,0.1597,0.2812,0.388,0.4076,0.1596,0.2736,0.3997,0.316,0.4506,0.1474,0.2788,0.2678,0.1227,0.2061,0.1209]\n",
    "level15_ATE=[0.315,0.3979,0.4131,0.1036,0.118,0.1855,0.2185,0.3542,0.2086,0.2247,0.386,0.5558,0.536,0.5947,0.155,0.2284,0.2935,0.1468,0.2081,0.2696]\n",
    "\n",
    "level1_RPE_rot=[1.3443,1.1212,1.0103,1.1422,0.8566,1.0018,1.131,0.9873,1.0004,1.0526,1.0996,1.0962,1.0898,1.0609,1.135,1.3238,1.0577,1.0144,0.9449,0.9064]\n",
    "level4_RPE_rot=[1.343,1.1568,1.0626,1.216,0.9333,1.1079,1.1707,1.0595,1.0995,1.1336,1.2464,1.2294,1.1788,1.1253,1.1947,1.3712,1.0831,1.0771,0.9876,0.9718]\n",
    "level6_RPE_rot=[1.3202,1.185,1.1008,1.2464,0.9756,1.1536,1.1763,1.1039,1.1598,1.1643,1.3198,1.2823,1.2057,1.1544,1.246,1.393,1.1081,1.0988,1.0027,1.0008]\n",
    "level8_RPE_rot=[1.2628,1.2,1.1542,1.2662,0.9818,1.1754,1.202,1.1341,1.207,1.1797,1.3746,1.3234,1.2416,1.1837,1.2599,1.4204,1.1266,1.1111,1.002,1.0336]\n",
    "level10_RPE_rot=[1.2327,1.2131,1.1737,1.2604,0.9722,1.1607,1.2682,1.1471,1.201,1.168,1.4104,1.3312,1.2479,1.1958,1.2675,1.4317,1.1299,1.124,1.017,1.0743]\n",
    "level15_RPE_rot=[1.1514,1.1448,1.1273,1.1622,0.9646,1.0742,1.2298,1.1512,1.0593,1.1105,1.3714,1.221,1.1538,1.1315,1.1906,1.3607,1.1396,1.1001,1.0353,1.0045]"
   ]
  },
  {
   "cell_type": "code",
   "execution_count": 4,
   "metadata": {},
   "outputs": [],
   "source": [
    "# compare samples\n",
    "levels_ATE=[level1_ATE,level4_ATE,level6_ATE,level8_ATE,level10_ATE,level15_ATE]\n",
    "names=[\"Level1\",\"Level4\",\"Level6\",\"Level8\",\"Level10\",\"Level15\"]\n",
    "levels_RPE_rot=[level1_RPE_rot,level4_RPE_rot,level6_RPE_rot,level8_RPE_rot,level10_RPE_rot,level15_RPE_rot]\n",
    "\n",
    "p_scores=[]\n",
    "p_score_rpe=[]\n",
    "levels=[]\n",
    "\n",
    "for i in range(0,5):\n",
    "    for j in range(i+1,6):\n",
    "        stat, p = mannwhitneyu(levels_ATE[i], levels_ATE[j])\n",
    "        p_scores.append('{:.3f}'.format(p))\n",
    "        levels.append(names[i]+\" - \"+names[j])\n",
    "        \n",
    "        stat2, p2 = mannwhitneyu(levels_RPE_rot[i], levels_RPE_rot[j])\n",
    "        p_score_rpe.append('{:.3f}'.format(p2))\n",
    "        "
   ]
  },
  {
   "cell_type": "code",
   "execution_count": 5,
   "metadata": {},
   "outputs": [
    {
     "name": "stdout",
     "output_type": "stream",
     "text": [
      "+---------------------------------------------------+\n",
      "|              Wilcoxon Test on FishEye             |\n",
      "+-------------------+-------------+-----------------+\n",
      "|       Levels      | ATE p-value | RPE rot p-value |\n",
      "+-------------------+-------------+-----------------+\n",
      "|  Level1 - Level4  |    0.430    |      0.022      |\n",
      "|  Level1 - Level6  |    0.378    |      0.002      |\n",
      "|  Level1 - Level8  |    0.338    |      0.001      |\n",
      "|  Level1 - Level10 |    0.290    |      0.000      |\n",
      "|  Level1 - Level15 |    0.228    |      0.004      |\n",
      "|  Level4 - Level6  |    0.399    |      0.165      |\n",
      "|  Level4 - Level8  |    0.357    |      0.043      |\n",
      "|  Level4 - Level10 |    0.347    |      0.032      |\n",
      "|  Level4 - Level15 |    0.197    |      0.452      |\n",
      "|  Level6 - Level8  |    0.393    |      0.212      |\n",
      "|  Level6 - Level10 |    0.373    |      0.168      |\n",
      "|  Level6 - Level15 |    0.262    |      0.155      |\n",
      "|  Level8 - Level10 |    0.388    |      0.420      |\n",
      "|  Level8 - Level15 |    0.276    |      0.043      |\n",
      "| Level10 - Level15 |    0.420    |      0.023      |\n",
      "+-------------------+-------------+-----------------+\n"
     ]
    }
   ],
   "source": [
    "x = PrettyTable()\n",
    "x.title = 'Wilcoxon Test on FishEye'\n",
    "x.field_names = [\"Levels\",\"ATE p-value\",\"RPE rot p-value\"]\n",
    "\n",
    "for i in range(len(p_scores)):\n",
    "     x.add_row([levels[i],p_scores[i],p_score_rpe[i]])\n",
    "\n",
    "\n",
    "print(x)"
   ]
  }
 ],
 "metadata": {
  "kernelspec": {
   "display_name": "Python 3",
   "language": "python",
   "name": "python3"
  },
  "language_info": {
   "codemirror_mode": {
    "name": "ipython",
    "version": 3
   },
   "file_extension": ".py",
   "mimetype": "text/x-python",
   "name": "python",
   "nbconvert_exporter": "python",
   "pygments_lexer": "ipython3",
   "version": "3.7.4"
  }
 },
 "nbformat": 4,
 "nbformat_minor": 2
}
